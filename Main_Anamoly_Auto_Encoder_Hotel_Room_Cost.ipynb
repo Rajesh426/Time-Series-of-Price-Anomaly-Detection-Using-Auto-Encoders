{
  "cells": [
    {
      "cell_type": "markdown",
      "metadata": {
        "colab_type": "text",
        "id": "OyV7MYuqcqWW"
      },
      "source": [
        "`Hotel Room`"
      ]
    },
    {
      "cell_type": "markdown",
      "metadata": {},
      "source": [
        "raj branch "
      ]
    },
    {
      "cell_type": "markdown",
      "metadata": {
        "colab_type": "text",
        "id": "VZc-heKQ4JRD"
      },
      "source": [
        "Here the data is belong to only one single hotel in the expedia database provided in the kaggle competation and the hotel is situated in USA Since different countries have different conventions regarding displaying taxes and fees and the value may be per night or for the whole stay. And we know that price displayed to US visitors is always per night and without taxes\n",
        "\n",
        "Features are date_time, price_usd, srch_booking_window, srch_saturday_night_bool\n",
        "and Features selected for the Auto Encoder is price_usd, srch_booking_window, srch_saturday_night_bool : 0 means not saturday night and 1 means saturday night\n",
        "But Autoencoder performs better if the number of features are more . RMSE is calculated to evaluate the model in general for anomaly RMSE will be more chek 1"
      ]
    },
    {
      "cell_type": "code",
      "execution_count": 1,
      "metadata": {
        "colab": {
          "base_uri": "https://localhost:8080/",
          "height": 221
        },
        "colab_type": "code",
        "id": "yFVnH2ZOatim",
        "outputId": "805c9794-bfc6-4707-de74-64ad68791419",
        "vscode": {
          "languageId": "python"
        }
      },
      "outputs": [
        {
          "name": "stdout",
          "output_type": "stream",
          "text": [
            "Read 3049 rows.\n"
          ]
        },
        {
          "data": {
            "text/html": [
              "<div>\n",
              "<style scoped>\n",
              "    .dataframe tbody tr th:only-of-type {\n",
              "        vertical-align: middle;\n",
              "    }\n",
              "\n",
              "    .dataframe tbody tr th {\n",
              "        vertical-align: top;\n",
              "    }\n",
              "\n",
              "    .dataframe thead th {\n",
              "        text-align: right;\n",
              "    }\n",
              "</style>\n",
              "<table border=\"1\" class=\"dataframe\">\n",
              "  <thead>\n",
              "    <tr style=\"text-align: right;\">\n",
              "      <th></th>\n",
              "      <th>Unnamed: 0</th>\n",
              "      <th>date_time</th>\n",
              "      <th>price_usd</th>\n",
              "      <th>srch_booking_window</th>\n",
              "      <th>srch_saturday_night_bool</th>\n",
              "    </tr>\n",
              "  </thead>\n",
              "  <tbody>\n",
              "    <tr>\n",
              "      <th>0</th>\n",
              "      <td>2041</td>\n",
              "      <td>2013-03-14 11:27:28</td>\n",
              "      <td>206.0</td>\n",
              "      <td>99</td>\n",
              "      <td>1</td>\n",
              "    </tr>\n",
              "    <tr>\n",
              "      <th>1</th>\n",
              "      <td>3152</td>\n",
              "      <td>2013-01-03 20:48:24</td>\n",
              "      <td>186.0</td>\n",
              "      <td>6</td>\n",
              "      <td>0</td>\n",
              "    </tr>\n",
              "    <tr>\n",
              "      <th>2</th>\n",
              "      <td>5166</td>\n",
              "      <td>2013-01-19 16:51:27</td>\n",
              "      <td>61.0</td>\n",
              "      <td>1</td>\n",
              "      <td>0</td>\n",
              "    </tr>\n",
              "    <tr>\n",
              "      <th>3</th>\n",
              "      <td>10135</td>\n",
              "      <td>2013-01-26 11:34:23</td>\n",
              "      <td>72.0</td>\n",
              "      <td>116</td>\n",
              "      <td>0</td>\n",
              "    </tr>\n",
              "    <tr>\n",
              "      <th>4</th>\n",
              "      <td>10560</td>\n",
              "      <td>2013-04-29 09:39:50</td>\n",
              "      <td>246.0</td>\n",
              "      <td>245</td>\n",
              "      <td>0</td>\n",
              "    </tr>\n",
              "  </tbody>\n",
              "</table>\n",
              "</div>"
            ],
            "text/plain": [
              "   Unnamed: 0  ... srch_saturday_night_bool\n",
              "0        2041  ...                        1\n",
              "1        3152  ...                        0\n",
              "2        5166  ...                        0\n",
              "3       10135  ...                        0\n",
              "4       10560  ...                        0\n",
              "\n",
              "[5 rows x 5 columns]"
            ]
          },
          "execution_count": 1,
          "metadata": {
            "tags": []
          },
          "output_type": "execute_result"
        }
      ],
      "source": [
        "import pandas as pd\n",
        "from tensorflow.keras.utils import get_file\n",
        "\n",
        "expedia = pd.read_csv('Data_filter.csv',sep = '\\t')\n",
        "df = expedia\n",
        "print(\"Read {} rows.\".format(len(df)))\n",
        "# df = df.sample(frac=0.1, replace=False) # Uncomment this line to sample only 10% of the dataset\n",
        "df.dropna(inplace=True,axis=1) # For now, just drop NA's (rows with missing values)\n",
        "\n",
        "df[0:5]"
      ]
    },
    {
      "cell_type": "code",
      "execution_count": null,
      "metadata": {
        "colab": {},
        "colab_type": "code",
        "id": "tWMLFHo_dCEW",
        "vscode": {
          "languageId": "python"
        }
      },
      "outputs": [],
      "source": [
        "# Encode a numeric column as zscores\n",
        "def encode_numeric_zscore(df, name, mean=None, sd=None):\n",
        "    if mean is None:\n",
        "        mean = df[name].mean()\n",
        "\n",
        "    if sd is None:\n",
        "        sd = df[name].std()\n",
        "\n",
        "    df[name] = (df[name] - mean) / sd\n",
        "    \n",
        "# Encode text values to dummy variables(i.e. [1,0,0],[0,1,0],[0,0,1] for red,green,blue)\n",
        "def encode_text_dummy(df, name):\n",
        "    dummies = pd.get_dummies(df[name])\n",
        "    for x in dummies.columns:\n",
        "        dummy_name = f\"{name}-{x}\"\n",
        "        df[dummy_name] = dummies[x]\n",
        "    df.drop(name, axis=1, inplace=True)"
      ]
    },
    {
      "cell_type": "code",
      "execution_count": null,
      "metadata": {
        "colab": {},
        "colab_type": "code",
        "id": "oj3GD9Qy6q9X",
        "vscode": {
          "languageId": "python"
        }
      },
      "outputs": [],
      "source": [
        "# Now encode the feature vector \n",
        "\n",
        "encode_numeric_zscore(df, 'price_usd')\n",
        "\n",
        "encode_numeric_zscore(df, 'srch_booking_window')\n"
      ]
    },
    {
      "cell_type": "code",
      "execution_count": null,
      "metadata": {
        "colab": {},
        "colab_type": "code",
        "id": "UkzJ79HBjx6s",
        "vscode": {
          "languageId": "python"
        }
      },
      "outputs": [],
      "source": [
        "# Anomaly interval mean - 3*standard deviation and mean + 3*standard deviation\n",
        "lower_boundry = (df['price_usd'].mean() - (3*df['price_usd'].std()))\n",
        "upper_boundry = (df['price_usd'].mean() + (3*df['price_usd'].std()))\n"
      ]
    },
    {
      "cell_type": "code",
      "execution_count": 5,
      "metadata": {
        "colab": {
          "base_uri": "https://localhost:8080/",
          "height": 51
        },
        "colab_type": "code",
        "id": "-nMpQ9qjm5Zi",
        "outputId": "a8b7c30e-2949-4364-b793-f4749e700114",
        "vscode": {
          "languageId": "python"
        }
      },
      "outputs": [
        {
          "name": "stdout",
          "output_type": "stream",
          "text": [
            "lower_boundry: -3.000000000000004\n",
            "upper_boundry: 3.000000000000004\n"
          ]
        }
      ],
      "source": [
        "print(f\"lower_boundry: {lower_boundry}\") \n",
        "print(f\"upper_boundry: {upper_boundry}\")\n"
      ]
    },
    {
      "cell_type": "code",
      "execution_count": null,
      "metadata": {
        "colab": {},
        "colab_type": "code",
        "id": "DMBtrnVUss47",
        "vscode": {
          "languageId": "python"
        }
      },
      "outputs": [],
      "source": [
        "# Normal are the data which are inside the lower and upper boundary \n",
        "normal_mask = (lower_boundry <= df['price_usd']) & ( df['price_usd'] <= upper_boundry)\n",
        "# Anamoly are the data which are outside the  lower and upper boundary \n",
        "Anamoly_mask = (lower_boundry > df['price_usd'] )| (df['price_usd'] > upper_boundry)"
      ]
    },
    {
      "cell_type": "code",
      "execution_count": null,
      "metadata": {
        "colab": {},
        "colab_type": "code",
        "id": "E2gXK34mo4Nn",
        "vscode": {
          "languageId": "python"
        }
      },
      "outputs": [],
      "source": [
        "df_normal = df[normal_mask]\n",
        "df_Anamoly = df[Anamoly_mask]"
      ]
    },
    {
      "cell_type": "code",
      "execution_count": 8,
      "metadata": {
        "colab": {
          "base_uri": "https://localhost:8080/",
          "height": 51
        },
        "colab_type": "code",
        "id": "pW7BtNU5uK01",
        "outputId": "75e506ff-fa5d-4253-8c07-b7dc828da7bb",
        "vscode": {
          "languageId": "python"
        }
      },
      "outputs": [
        {
          "name": "stdout",
          "output_type": "stream",
          "text": [
            "Len of Normal: 3047\n",
            "Len of Anamoly : 2\n"
          ]
        }
      ],
      "source": [
        "print(f\"Len of Normal: {len(df_normal)}\") \n",
        "print(f\"Len of Anamoly : {len(df_Anamoly)}\")"
      ]
    },
    {
      "cell_type": "code",
      "execution_count": null,
      "metadata": {
        "colab": {},
        "colab_type": "code",
        "id": "lzPUz6A7d5aU",
        "vscode": {
          "languageId": "python"
        }
      },
      "outputs": [],
      "source": [
        "# This is the numeric feature vector, as it goes to the neural net\n",
        "x_normal = df_normal.iloc[:,2::].values\n",
        "x_Anamoly = df_Anamoly.iloc[:,2::].values"
      ]
    },
    {
      "cell_type": "code",
      "execution_count": 10,
      "metadata": {
        "colab": {
          "base_uri": "https://localhost:8080/",
          "height": 51
        },
        "colab_type": "code",
        "id": "p3jYcWsYplKy",
        "outputId": "2f74d702-513a-47f7-d03c-c2fb1a1943d9",
        "vscode": {
          "languageId": "python"
        }
      },
      "outputs": [
        {
          "data": {
            "text/plain": [
              "array([[ 3.73155041, -0.80334557,  0.        ],\n",
              "       [48.25673107, -0.52171811,  0.        ]])"
            ]
          },
          "execution_count": 10,
          "metadata": {
            "tags": []
          },
          "output_type": "execute_result"
        }
      ],
      "source": [
        "x_Anamoly"
      ]
    },
    {
      "cell_type": "code",
      "execution_count": null,
      "metadata": {
        "colab": {},
        "colab_type": "code",
        "id": "EjlgsS8PeKFk",
        "vscode": {
          "languageId": "python"
        }
      },
      "outputs": [],
      "source": [
        "from sklearn.model_selection import train_test_split\n",
        "\n",
        "x_normal_train, x_normal_test = train_test_split(\n",
        "    x_normal, test_size=0.25, random_state=42)"
      ]
    },
    {
      "cell_type": "code",
      "execution_count": 12,
      "metadata": {
        "colab": {
          "base_uri": "https://localhost:8080/",
          "height": 51
        },
        "colab_type": "code",
        "id": "tdJfeiGaePUl",
        "outputId": "ac1485a8-5fa5-4d4e-abaf-b6c09922618e",
        "vscode": {
          "languageId": "python"
        }
      },
      "outputs": [
        {
          "name": "stdout",
          "output_type": "stream",
          "text": [
            "Normal train count: 2285\n",
            "Normal test count: 762\n"
          ]
        }
      ],
      "source": [
        "print(f\"Normal train count: {len(x_normal_train)}\")\n",
        "print(f\"Normal test count: {len(x_normal_test)}\")"
      ]
    },
    {
      "cell_type": "markdown",
      "metadata": {
        "colab_type": "text",
        "id": "CJA5qx9ueXtJ"
      },
      "source": [
        "Auto Encoder"
      ]
    },
    {
      "cell_type": "code",
      "execution_count": 13,
      "metadata": {
        "colab": {
          "base_uri": "https://localhost:8080/",
          "height": 1000
        },
        "colab_type": "code",
        "id": "NzcV89qmeSoz",
        "outputId": "d8960e41-736c-4251-982c-63b0286686db",
        "vscode": {
          "languageId": "python"
        }
      },
      "outputs": [
        {
          "name": "stdout",
          "output_type": "stream",
          "text": [
            "WARNING:tensorflow:From /usr/local/lib/python3.6/dist-packages/tensorflow_core/python/ops/resource_variable_ops.py:1630: calling BaseResourceVariable.__init__ (from tensorflow.python.ops.resource_variable_ops) with constraint is deprecated and will be removed in a future version.\n",
            "Instructions for updating:\n",
            "If using Keras pass *_constraint arguments to layers.\n",
            "Train on 2285 samples\n",
            "Epoch 1/100\n",
            "2285/2285 [==============================] - 5s 2ms/sample - loss: 0.6396\n",
            "Epoch 2/100\n",
            "2285/2285 [==============================] - 0s 88us/sample - loss: 0.5710\n",
            "Epoch 3/100\n",
            "2285/2285 [==============================] - 0s 99us/sample - loss: 0.5331\n",
            "Epoch 4/100\n",
            "2285/2285 [==============================] - 0s 91us/sample - loss: 0.5021\n",
            "Epoch 5/100\n",
            "2285/2285 [==============================] - 0s 101us/sample - loss: 0.4755\n",
            "Epoch 6/100\n",
            "2285/2285 [==============================] - 0s 96us/sample - loss: 0.4531\n",
            "Epoch 7/100\n",
            "2285/2285 [==============================] - 0s 97us/sample - loss: 0.4329\n",
            "Epoch 8/100\n",
            "2285/2285 [==============================] - 0s 99us/sample - loss: 0.4136\n",
            "Epoch 9/100\n",
            "2285/2285 [==============================] - 0s 95us/sample - loss: 0.3962\n",
            "Epoch 10/100\n",
            "2285/2285 [==============================] - 0s 106us/sample - loss: 0.3815\n",
            "Epoch 11/100\n",
            "2285/2285 [==============================] - 0s 96us/sample - loss: 0.3689\n",
            "Epoch 12/100\n",
            "2285/2285 [==============================] - 0s 94us/sample - loss: 0.3577\n",
            "Epoch 13/100\n",
            "2285/2285 [==============================] - 0s 95us/sample - loss: 0.3474\n",
            "Epoch 14/100\n",
            "2285/2285 [==============================] - 0s 92us/sample - loss: 0.3379\n",
            "Epoch 15/100\n",
            "2285/2285 [==============================] - 0s 99us/sample - loss: 0.3293\n",
            "Epoch 16/100\n",
            "2285/2285 [==============================] - 0s 93us/sample - loss: 0.3213\n",
            "Epoch 17/100\n",
            "2285/2285 [==============================] - 0s 105us/sample - loss: 0.3135\n",
            "Epoch 18/100\n",
            "2285/2285 [==============================] - 0s 102us/sample - loss: 0.3060\n",
            "Epoch 19/100\n",
            "2285/2285 [==============================] - 0s 99us/sample - loss: 0.2990\n",
            "Epoch 20/100\n",
            "2285/2285 [==============================] - 0s 96us/sample - loss: 0.2921\n",
            "Epoch 21/100\n",
            "2285/2285 [==============================] - 0s 90us/sample - loss: 0.2858\n",
            "Epoch 22/100\n",
            "2285/2285 [==============================] - 0s 99us/sample - loss: 0.2797\n",
            "Epoch 23/100\n",
            "2285/2285 [==============================] - 0s 103us/sample - loss: 0.2739\n",
            "Epoch 24/100\n",
            "2285/2285 [==============================] - 0s 98us/sample - loss: 0.2682\n",
            "Epoch 25/100\n",
            "2285/2285 [==============================] - 0s 98us/sample - loss: 0.2626\n",
            "Epoch 26/100\n",
            "2285/2285 [==============================] - 0s 100us/sample - loss: 0.2559\n",
            "Epoch 27/100\n",
            "2285/2285 [==============================] - 0s 101us/sample - loss: 0.2388\n",
            "Epoch 28/100\n",
            "2285/2285 [==============================] - 0s 102us/sample - loss: 0.2096\n",
            "Epoch 29/100\n",
            "2285/2285 [==============================] - 0s 96us/sample - loss: 0.1668\n",
            "Epoch 30/100\n",
            "2285/2285 [==============================] - 0s 98us/sample - loss: 0.1186\n",
            "Epoch 31/100\n",
            "2285/2285 [==============================] - 0s 100us/sample - loss: 0.1006\n",
            "Epoch 32/100\n",
            "2285/2285 [==============================] - 0s 96us/sample - loss: 0.0892\n",
            "Epoch 33/100\n",
            "2285/2285 [==============================] - 0s 95us/sample - loss: 0.0818\n",
            "Epoch 34/100\n",
            "2285/2285 [==============================] - 0s 92us/sample - loss: 0.0760\n",
            "Epoch 35/100\n",
            "2285/2285 [==============================] - 0s 101us/sample - loss: 0.0715\n",
            "Epoch 36/100\n",
            "2285/2285 [==============================] - 0s 100us/sample - loss: 0.0678\n",
            "Epoch 37/100\n",
            "2285/2285 [==============================] - 0s 93us/sample - loss: 0.0645\n",
            "Epoch 38/100\n",
            "2285/2285 [==============================] - 0s 98us/sample - loss: 0.0618\n",
            "Epoch 39/100\n",
            "2285/2285 [==============================] - 0s 92us/sample - loss: 0.0596\n",
            "Epoch 40/100\n",
            "2285/2285 [==============================] - 0s 100us/sample - loss: 0.0577\n",
            "Epoch 41/100\n",
            "2285/2285 [==============================] - 0s 101us/sample - loss: 0.0560\n",
            "Epoch 42/100\n",
            "2285/2285 [==============================] - 0s 95us/sample - loss: 0.0547\n",
            "Epoch 43/100\n",
            "2285/2285 [==============================] - 0s 96us/sample - loss: 0.0535\n",
            "Epoch 44/100\n",
            "2285/2285 [==============================] - 0s 101us/sample - loss: 0.0527\n",
            "Epoch 45/100\n",
            "2285/2285 [==============================] - 0s 99us/sample - loss: 0.0516\n",
            "Epoch 46/100\n",
            "2285/2285 [==============================] - 0s 94us/sample - loss: 0.0509\n",
            "Epoch 47/100\n",
            "2285/2285 [==============================] - 0s 100us/sample - loss: 0.0502\n",
            "Epoch 48/100\n",
            "2285/2285 [==============================] - 0s 102us/sample - loss: 0.0498\n",
            "Epoch 49/100\n",
            "2285/2285 [==============================] - 0s 101us/sample - loss: 0.0496\n",
            "Epoch 50/100\n",
            "2285/2285 [==============================] - 0s 92us/sample - loss: 0.0491\n",
            "Epoch 51/100\n",
            "2285/2285 [==============================] - 0s 97us/sample - loss: 0.0488\n",
            "Epoch 52/100\n",
            "2285/2285 [==============================] - 0s 91us/sample - loss: 0.0486\n",
            "Epoch 53/100\n",
            "2285/2285 [==============================] - 0s 106us/sample - loss: 0.0485\n",
            "Epoch 54/100\n",
            "2285/2285 [==============================] - 0s 97us/sample - loss: 0.0483\n",
            "Epoch 55/100\n",
            "2285/2285 [==============================] - 0s 97us/sample - loss: 0.0482\n",
            "Epoch 56/100\n",
            "2285/2285 [==============================] - 0s 108us/sample - loss: 0.0480\n",
            "Epoch 57/100\n",
            "2285/2285 [==============================] - 0s 95us/sample - loss: 0.0478\n",
            "Epoch 58/100\n",
            "2285/2285 [==============================] - 0s 102us/sample - loss: 0.0480\n",
            "Epoch 59/100\n",
            "2285/2285 [==============================] - 0s 101us/sample - loss: 0.0477\n",
            "Epoch 60/100\n",
            "2285/2285 [==============================] - 0s 102us/sample - loss: 0.0476\n",
            "Epoch 61/100\n",
            "2285/2285 [==============================] - 0s 99us/sample - loss: 0.0475\n",
            "Epoch 62/100\n",
            "2285/2285 [==============================] - 0s 101us/sample - loss: 0.0475\n",
            "Epoch 63/100\n",
            "2285/2285 [==============================] - 0s 97us/sample - loss: 0.0474\n",
            "Epoch 64/100\n",
            "2285/2285 [==============================] - 0s 99us/sample - loss: 0.0474\n",
            "Epoch 65/100\n",
            "2285/2285 [==============================] - 0s 97us/sample - loss: 0.0472\n",
            "Epoch 66/100\n",
            "2285/2285 [==============================] - 0s 95us/sample - loss: 0.0472\n",
            "Epoch 67/100\n",
            "2285/2285 [==============================] - 0s 101us/sample - loss: 0.0471\n",
            "Epoch 68/100\n",
            "2285/2285 [==============================] - 0s 101us/sample - loss: 0.0473\n",
            "Epoch 69/100\n",
            "2285/2285 [==============================] - 0s 96us/sample - loss: 0.0471\n",
            "Epoch 70/100\n",
            "2285/2285 [==============================] - 0s 92us/sample - loss: 0.0471\n",
            "Epoch 71/100\n",
            "2285/2285 [==============================] - 0s 112us/sample - loss: 0.0469\n",
            "Epoch 72/100\n",
            "2285/2285 [==============================] - 0s 102us/sample - loss: 0.0469\n",
            "Epoch 73/100\n",
            "2285/2285 [==============================] - 0s 96us/sample - loss: 0.0470\n",
            "Epoch 74/100\n",
            "2285/2285 [==============================] - 0s 92us/sample - loss: 0.0469\n",
            "Epoch 75/100\n",
            "2285/2285 [==============================] - 0s 97us/sample - loss: 0.0469\n",
            "Epoch 76/100\n",
            "2285/2285 [==============================] - 0s 97us/sample - loss: 0.0469\n",
            "Epoch 77/100\n",
            "2285/2285 [==============================] - 0s 94us/sample - loss: 0.0468\n",
            "Epoch 78/100\n",
            "2285/2285 [==============================] - 0s 100us/sample - loss: 0.0469\n",
            "Epoch 79/100\n",
            "2285/2285 [==============================] - 0s 97us/sample - loss: 0.0468\n",
            "Epoch 80/100\n",
            "2285/2285 [==============================] - 0s 105us/sample - loss: 0.0467\n",
            "Epoch 81/100\n",
            "2285/2285 [==============================] - 0s 97us/sample - loss: 0.0467\n",
            "Epoch 82/100\n",
            "2285/2285 [==============================] - 0s 99us/sample - loss: 0.0467\n",
            "Epoch 83/100\n",
            "2285/2285 [==============================] - 0s 100us/sample - loss: 0.0467\n",
            "Epoch 84/100\n",
            "2285/2285 [==============================] - 0s 97us/sample - loss: 0.0467\n",
            "Epoch 85/100\n",
            "2285/2285 [==============================] - 0s 99us/sample - loss: 0.0468\n",
            "Epoch 86/100\n",
            "2285/2285 [==============================] - 0s 99us/sample - loss: 0.0467\n",
            "Epoch 87/100\n",
            "2285/2285 [==============================] - 0s 96us/sample - loss: 0.0466\n",
            "Epoch 88/100\n",
            "2285/2285 [==============================] - 0s 97us/sample - loss: 0.0466\n",
            "Epoch 89/100\n",
            "2285/2285 [==============================] - 0s 102us/sample - loss: 0.0466\n",
            "Epoch 90/100\n",
            "2285/2285 [==============================] - 0s 98us/sample - loss: 0.0468\n",
            "Epoch 91/100\n",
            "2285/2285 [==============================] - 0s 96us/sample - loss: 0.0465\n",
            "Epoch 92/100\n",
            "2285/2285 [==============================] - 0s 98us/sample - loss: 0.0467\n",
            "Epoch 93/100\n",
            "2285/2285 [==============================] - 0s 102us/sample - loss: 0.0466\n",
            "Epoch 94/100\n",
            "2285/2285 [==============================] - 0s 101us/sample - loss: 0.0467\n",
            "Epoch 95/100\n",
            "2285/2285 [==============================] - 0s 98us/sample - loss: 0.0465\n",
            "Epoch 96/100\n",
            "2285/2285 [==============================] - 0s 98us/sample - loss: 0.0468\n",
            "Epoch 97/100\n",
            "2285/2285 [==============================] - 0s 92us/sample - loss: 0.0466\n",
            "Epoch 98/100\n",
            "2285/2285 [==============================] - 0s 99us/sample - loss: 0.0466\n",
            "Epoch 99/100\n",
            "2285/2285 [==============================] - 0s 96us/sample - loss: 0.0465\n",
            "Epoch 100/100\n",
            "2285/2285 [==============================] - 0s 94us/sample - loss: 0.0465\n"
          ]
        },
        {
          "data": {
            "text/plain": [
              "<tensorflow.python.keras.callbacks.History at 0x7fc36ea73da0>"
            ]
          },
          "execution_count": 13,
          "metadata": {
            "tags": []
          },
          "output_type": "execute_result"
        }
      ],
      "source": [
        "from sklearn import metrics\n",
        "import numpy as np\n",
        "import pandas as pd\n",
        "from IPython.display import display, HTML \n",
        "import tensorflow as tf\n",
        "from tensorflow.keras.models import Sequential\n",
        "from tensorflow.keras.layers import Dense, Activation\n",
        "\n",
        "model = Sequential()\n",
        "model.add(Dense(3, input_dim=x_normal.shape[1], activation='relu'))\n",
        "model.add(Dense(2, activation='relu'))\n",
        "model.add(Dense(3, activation='relu'))\n",
        "model.add(Dense(x_normal.shape[1])) # Multiple output neurons\n",
        "model.compile(loss='mean_squared_error', optimizer='adam')\n",
        "model.fit(x_normal_train,x_normal_train,verbose=1,epochs=100)"
      ]
    },
    {
      "cell_type": "code",
      "execution_count": 14,
      "metadata": {
        "colab": {
          "base_uri": "https://localhost:8080/",
          "height": 85
        },
        "colab_type": "code",
        "id": "yAvkS631ejZA",
        "outputId": "71c261d6-752d-498f-f23d-f5c20dd2102e",
        "vscode": {
          "languageId": "python"
        }
      },
      "outputs": [
        {
          "name": "stdout",
          "output_type": "stream",
          "text": [
            "Train Normal Score (RMSE): 0.21547695928103805\n",
            "Test Normal Score (RMSE): 0.21317255029592558\n",
            "Total Sample Normal Score (RMSE): 0.21490298506551248\n",
            "Anomaly Sample Score (RMSE): 19.52843919544663\n"
          ]
        }
      ],
      "source": [
        "pred = model.predict(x_normal_train)\n",
        "score0 = np.sqrt(metrics.mean_squared_error(pred,x_normal_train))\n",
        "pred = model.predict(x_normal_test)\n",
        "score1 = np.sqrt(metrics.mean_squared_error(pred,x_normal_test))\n",
        "pred = model.predict(x_normal)\n",
        "score2 = np.sqrt(metrics.mean_squared_error(pred,x_normal))\n",
        "pred = model.predict(x_Anamoly)\n",
        "score3 = np.sqrt(metrics.mean_squared_error(pred,x_Anamoly))\n",
        "print(f\"Train Normal Score (RMSE): {score0}\".format(score0))\n",
        "print(f\"Test Normal Score (RMSE): {score1}\".format(score1))\n",
        "print(f\"Total Sample Normal Score (RMSE): {score2}\")\n",
        "print(f\"Anomaly Sample Score (RMSE): {score3}\")"
      ]
    }
  ],
  "metadata": {
    "accelerator": "GPU",
    "colab": {
      "collapsed_sections": [],
      "name": "Main_Anamoly_Auto_Encoder_Hotel_Room_Cost.ipynb",
      "provenance": []
    },
    "kernelspec": {
      "display_name": "Python 3",
      "name": "python3"
    }
  },
  "nbformat": 4,
  "nbformat_minor": 0
}
